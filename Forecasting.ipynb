{
  "nbformat": 4,
  "nbformat_minor": 0,
  "metadata": {
    "colab": {
      "name": "Forecasting.ipynb",
      "provenance": [],
      "collapsed_sections": [],
      "include_colab_link": true
    },
    "kernelspec": {
      "name": "python3",
      "display_name": "Python 3"
    }
  },
  "cells": [
    {
      "cell_type": "markdown",
      "metadata": {
        "id": "view-in-github",
        "colab_type": "text"
      },
      "source": [
        "<a href=\"https://colab.research.google.com/github/pranitamahajan27/findFH_aphrodite/blob/master/Forecasting.ipynb\" target=\"_parent\"><img src=\"https://colab.research.google.com/assets/colab-badge.svg\" alt=\"Open In Colab\"/></a>"
      ]
    },
    {
      "cell_type": "code",
      "metadata": {
        "id": "XFLFzGNhJwQo",
        "colab_type": "code",
        "outputId": "f7316c98-6e9c-4534-cc4c-d73185154b71",
        "colab": {
          "base_uri": "https://localhost:8080/",
          "height": 70
        }
      },
      "source": [
        "import pandas as pd\n",
        "import numpy as np\n",
        "import matplotlib.pyplot as plt\n",
        "import seaborn as sns\n",
        "import plotly.express as px  ### Plotting the data on World Map"
      ],
      "execution_count": 1,
      "outputs": [
        {
          "output_type": "stream",
          "text": [
            "/usr/local/lib/python3.6/dist-packages/statsmodels/tools/_testing.py:19: FutureWarning: pandas.util.testing is deprecated. Use the functions in the public API at pandas.testing instead.\n",
            "  import pandas.util.testing as tm\n"
          ],
          "name": "stderr"
        }
      ]
    },
    {
      "cell_type": "code",
      "metadata": {
        "id": "3UaLUWaKJ2Ks",
        "colab_type": "code",
        "colab": {}
      },
      "source": [
        "path = 'https://raw.githubusercontent.com/umangkejriwal1122/Machine-Learning/master/Data%20Sets/covid_19_clean_complete.csv'"
      ],
      "execution_count": 0,
      "outputs": []
    },
    {
      "cell_type": "code",
      "metadata": {
        "id": "RMEQoPK1J7vT",
        "colab_type": "code",
        "outputId": "af668874-bf17-4c7c-a89a-0aa8045e4a01",
        "colab": {
          "base_uri": "https://localhost:8080/",
          "height": 269
        }
      },
      "source": [
        "df = pd.read_csv(path)\n",
        "df['Date'] = pd.to_datetime(df['Date'])\n",
        "df.info()"
      ],
      "execution_count": 3,
      "outputs": [
        {
          "output_type": "stream",
          "text": [
            "<class 'pandas.core.frame.DataFrame'>\n",
            "RangeIndex: 28248 entries, 0 to 28247\n",
            "Data columns (total 8 columns):\n",
            " #   Column          Non-Null Count  Dtype         \n",
            "---  ------          --------------  -----         \n",
            " 0   Province/State  8560 non-null   object        \n",
            " 1   Country/Region  28248 non-null  object        \n",
            " 2   Lat             28248 non-null  float64       \n",
            " 3   Long            28248 non-null  float64       \n",
            " 4   Date            28248 non-null  datetime64[ns]\n",
            " 5   Confirmed       28248 non-null  int64         \n",
            " 6   Deaths          28248 non-null  int64         \n",
            " 7   Recovered       28248 non-null  int64         \n",
            "dtypes: datetime64[ns](1), float64(2), int64(3), object(2)\n",
            "memory usage: 1.7+ MB\n"
          ],
          "name": "stdout"
        }
      ]
    },
    {
      "cell_type": "code",
      "metadata": {
        "id": "W2oJk8u-KEoo",
        "colab_type": "code",
        "outputId": "bd2f75db-3acb-4cd9-c591-3939503829f2",
        "colab": {
          "base_uri": "https://localhost:8080/",
          "height": 195
        }
      },
      "source": [
        "df.drop(['Province/State'],axis=1,inplace=True)\n",
        "df.rename(columns={\"Country/Region\":\"Country\"},inplace=True)\n",
        "df.head()"
      ],
      "execution_count": 4,
      "outputs": [
        {
          "output_type": "execute_result",
          "data": {
            "text/html": [
              "<div>\n",
              "<style scoped>\n",
              "    .dataframe tbody tr th:only-of-type {\n",
              "        vertical-align: middle;\n",
              "    }\n",
              "\n",
              "    .dataframe tbody tr th {\n",
              "        vertical-align: top;\n",
              "    }\n",
              "\n",
              "    .dataframe thead th {\n",
              "        text-align: right;\n",
              "    }\n",
              "</style>\n",
              "<table border=\"1\" class=\"dataframe\">\n",
              "  <thead>\n",
              "    <tr style=\"text-align: right;\">\n",
              "      <th></th>\n",
              "      <th>Country</th>\n",
              "      <th>Lat</th>\n",
              "      <th>Long</th>\n",
              "      <th>Date</th>\n",
              "      <th>Confirmed</th>\n",
              "      <th>Deaths</th>\n",
              "      <th>Recovered</th>\n",
              "    </tr>\n",
              "  </thead>\n",
              "  <tbody>\n",
              "    <tr>\n",
              "      <th>0</th>\n",
              "      <td>Afghanistan</td>\n",
              "      <td>33.0000</td>\n",
              "      <td>65.0000</td>\n",
              "      <td>2020-01-22</td>\n",
              "      <td>0</td>\n",
              "      <td>0</td>\n",
              "      <td>0</td>\n",
              "    </tr>\n",
              "    <tr>\n",
              "      <th>1</th>\n",
              "      <td>Albania</td>\n",
              "      <td>41.1533</td>\n",
              "      <td>20.1683</td>\n",
              "      <td>2020-01-22</td>\n",
              "      <td>0</td>\n",
              "      <td>0</td>\n",
              "      <td>0</td>\n",
              "    </tr>\n",
              "    <tr>\n",
              "      <th>2</th>\n",
              "      <td>Algeria</td>\n",
              "      <td>28.0339</td>\n",
              "      <td>1.6596</td>\n",
              "      <td>2020-01-22</td>\n",
              "      <td>0</td>\n",
              "      <td>0</td>\n",
              "      <td>0</td>\n",
              "    </tr>\n",
              "    <tr>\n",
              "      <th>3</th>\n",
              "      <td>Andorra</td>\n",
              "      <td>42.5063</td>\n",
              "      <td>1.5218</td>\n",
              "      <td>2020-01-22</td>\n",
              "      <td>0</td>\n",
              "      <td>0</td>\n",
              "      <td>0</td>\n",
              "    </tr>\n",
              "    <tr>\n",
              "      <th>4</th>\n",
              "      <td>Angola</td>\n",
              "      <td>-11.2027</td>\n",
              "      <td>17.8739</td>\n",
              "      <td>2020-01-22</td>\n",
              "      <td>0</td>\n",
              "      <td>0</td>\n",
              "      <td>0</td>\n",
              "    </tr>\n",
              "  </tbody>\n",
              "</table>\n",
              "</div>"
            ],
            "text/plain": [
              "       Country      Lat     Long       Date  Confirmed  Deaths  Recovered\n",
              "0  Afghanistan  33.0000  65.0000 2020-01-22          0       0          0\n",
              "1      Albania  41.1533  20.1683 2020-01-22          0       0          0\n",
              "2      Algeria  28.0339   1.6596 2020-01-22          0       0          0\n",
              "3      Andorra  42.5063   1.5218 2020-01-22          0       0          0\n",
              "4       Angola -11.2027  17.8739 2020-01-22          0       0          0"
            ]
          },
          "metadata": {
            "tags": []
          },
          "execution_count": 4
        }
      ]
    },
    {
      "cell_type": "code",
      "metadata": {
        "id": "b9w_jOKvKTfz",
        "colab_type": "code",
        "outputId": "f234f04d-b1a4-450e-b861-d05201d0a834",
        "colab": {
          "base_uri": "https://localhost:8080/",
          "height": 195
        }
      },
      "source": [
        "active =  df['Confirmed'] - df['Recovered'] - df['Deaths']\n",
        "df['Active'] = active\n",
        "df.tail()"
      ],
      "execution_count": 5,
      "outputs": [
        {
          "output_type": "execute_result",
          "data": {
            "text/html": [
              "<div>\n",
              "<style scoped>\n",
              "    .dataframe tbody tr th:only-of-type {\n",
              "        vertical-align: middle;\n",
              "    }\n",
              "\n",
              "    .dataframe tbody tr th {\n",
              "        vertical-align: top;\n",
              "    }\n",
              "\n",
              "    .dataframe thead th {\n",
              "        text-align: right;\n",
              "    }\n",
              "</style>\n",
              "<table border=\"1\" class=\"dataframe\">\n",
              "  <thead>\n",
              "    <tr style=\"text-align: right;\">\n",
              "      <th></th>\n",
              "      <th>Country</th>\n",
              "      <th>Lat</th>\n",
              "      <th>Long</th>\n",
              "      <th>Date</th>\n",
              "      <th>Confirmed</th>\n",
              "      <th>Deaths</th>\n",
              "      <th>Recovered</th>\n",
              "      <th>Active</th>\n",
              "    </tr>\n",
              "  </thead>\n",
              "  <tbody>\n",
              "    <tr>\n",
              "      <th>28243</th>\n",
              "      <td>Western Sahara</td>\n",
              "      <td>24.215500</td>\n",
              "      <td>-12.885800</td>\n",
              "      <td>2020-05-07</td>\n",
              "      <td>6</td>\n",
              "      <td>0</td>\n",
              "      <td>5</td>\n",
              "      <td>1</td>\n",
              "    </tr>\n",
              "    <tr>\n",
              "      <th>28244</th>\n",
              "      <td>Sao Tome and Principe</td>\n",
              "      <td>0.186360</td>\n",
              "      <td>6.613081</td>\n",
              "      <td>2020-05-07</td>\n",
              "      <td>187</td>\n",
              "      <td>4</td>\n",
              "      <td>4</td>\n",
              "      <td>179</td>\n",
              "    </tr>\n",
              "    <tr>\n",
              "      <th>28245</th>\n",
              "      <td>Yemen</td>\n",
              "      <td>15.552727</td>\n",
              "      <td>48.516388</td>\n",
              "      <td>2020-05-07</td>\n",
              "      <td>25</td>\n",
              "      <td>5</td>\n",
              "      <td>1</td>\n",
              "      <td>19</td>\n",
              "    </tr>\n",
              "    <tr>\n",
              "      <th>28246</th>\n",
              "      <td>Comoros</td>\n",
              "      <td>-11.645500</td>\n",
              "      <td>43.333300</td>\n",
              "      <td>2020-05-07</td>\n",
              "      <td>8</td>\n",
              "      <td>1</td>\n",
              "      <td>0</td>\n",
              "      <td>7</td>\n",
              "    </tr>\n",
              "    <tr>\n",
              "      <th>28247</th>\n",
              "      <td>Tajikistan</td>\n",
              "      <td>38.861034</td>\n",
              "      <td>71.276093</td>\n",
              "      <td>2020-05-07</td>\n",
              "      <td>461</td>\n",
              "      <td>12</td>\n",
              "      <td>0</td>\n",
              "      <td>449</td>\n",
              "    </tr>\n",
              "  </tbody>\n",
              "</table>\n",
              "</div>"
            ],
            "text/plain": [
              "                     Country        Lat       Long  ... Deaths  Recovered  Active\n",
              "28243         Western Sahara  24.215500 -12.885800  ...      0          5       1\n",
              "28244  Sao Tome and Principe   0.186360   6.613081  ...      4          4     179\n",
              "28245                  Yemen  15.552727  48.516388  ...      5          1      19\n",
              "28246                Comoros -11.645500  43.333300  ...      1          0       7\n",
              "28247             Tajikistan  38.861034  71.276093  ...     12          0     449\n",
              "\n",
              "[5 rows x 8 columns]"
            ]
          },
          "metadata": {
            "tags": []
          },
          "execution_count": 5
        }
      ]
    },
    {
      "cell_type": "markdown",
      "metadata": {
        "id": "SeubOvnLLSq7",
        "colab_type": "text"
      },
      "source": [
        "##Time Series Analysis\n",
        "##When data is not constant use time series\n",
        "###When output is no linear..not following any function\n",
        "##fbprophet library - facebook library \n",
        "##Name of the column should be ds (date stamp) & y (output) ..these are predefined keywords\n"
      ]
    },
    {
      "cell_type": "code",
      "metadata": {
        "id": "54UG7xSlMYBU",
        "colab_type": "code",
        "colab": {}
      },
      "source": [
        "from fbprophet import Prophet"
      ],
      "execution_count": 0,
      "outputs": []
    },
    {
      "cell_type": "code",
      "metadata": {
        "id": "6U-X0kR0Me8l",
        "colab_type": "code",
        "outputId": "bee4ea00-a472-4738-e2e2-5f866b458ba9",
        "colab": {
          "base_uri": "https://localhost:8080/",
          "height": 195
        }
      },
      "source": [
        "df.head()"
      ],
      "execution_count": 7,
      "outputs": [
        {
          "output_type": "execute_result",
          "data": {
            "text/html": [
              "<div>\n",
              "<style scoped>\n",
              "    .dataframe tbody tr th:only-of-type {\n",
              "        vertical-align: middle;\n",
              "    }\n",
              "\n",
              "    .dataframe tbody tr th {\n",
              "        vertical-align: top;\n",
              "    }\n",
              "\n",
              "    .dataframe thead th {\n",
              "        text-align: right;\n",
              "    }\n",
              "</style>\n",
              "<table border=\"1\" class=\"dataframe\">\n",
              "  <thead>\n",
              "    <tr style=\"text-align: right;\">\n",
              "      <th></th>\n",
              "      <th>Country</th>\n",
              "      <th>Lat</th>\n",
              "      <th>Long</th>\n",
              "      <th>Date</th>\n",
              "      <th>Confirmed</th>\n",
              "      <th>Deaths</th>\n",
              "      <th>Recovered</th>\n",
              "      <th>Active</th>\n",
              "    </tr>\n",
              "  </thead>\n",
              "  <tbody>\n",
              "    <tr>\n",
              "      <th>0</th>\n",
              "      <td>Afghanistan</td>\n",
              "      <td>33.0000</td>\n",
              "      <td>65.0000</td>\n",
              "      <td>2020-01-22</td>\n",
              "      <td>0</td>\n",
              "      <td>0</td>\n",
              "      <td>0</td>\n",
              "      <td>0</td>\n",
              "    </tr>\n",
              "    <tr>\n",
              "      <th>1</th>\n",
              "      <td>Albania</td>\n",
              "      <td>41.1533</td>\n",
              "      <td>20.1683</td>\n",
              "      <td>2020-01-22</td>\n",
              "      <td>0</td>\n",
              "      <td>0</td>\n",
              "      <td>0</td>\n",
              "      <td>0</td>\n",
              "    </tr>\n",
              "    <tr>\n",
              "      <th>2</th>\n",
              "      <td>Algeria</td>\n",
              "      <td>28.0339</td>\n",
              "      <td>1.6596</td>\n",
              "      <td>2020-01-22</td>\n",
              "      <td>0</td>\n",
              "      <td>0</td>\n",
              "      <td>0</td>\n",
              "      <td>0</td>\n",
              "    </tr>\n",
              "    <tr>\n",
              "      <th>3</th>\n",
              "      <td>Andorra</td>\n",
              "      <td>42.5063</td>\n",
              "      <td>1.5218</td>\n",
              "      <td>2020-01-22</td>\n",
              "      <td>0</td>\n",
              "      <td>0</td>\n",
              "      <td>0</td>\n",
              "      <td>0</td>\n",
              "    </tr>\n",
              "    <tr>\n",
              "      <th>4</th>\n",
              "      <td>Angola</td>\n",
              "      <td>-11.2027</td>\n",
              "      <td>17.8739</td>\n",
              "      <td>2020-01-22</td>\n",
              "      <td>0</td>\n",
              "      <td>0</td>\n",
              "      <td>0</td>\n",
              "      <td>0</td>\n",
              "    </tr>\n",
              "  </tbody>\n",
              "</table>\n",
              "</div>"
            ],
            "text/plain": [
              "       Country      Lat     Long  ... Deaths  Recovered  Active\n",
              "0  Afghanistan  33.0000  65.0000  ...      0          0       0\n",
              "1      Albania  41.1533  20.1683  ...      0          0       0\n",
              "2      Algeria  28.0339   1.6596  ...      0          0       0\n",
              "3      Andorra  42.5063   1.5218  ...      0          0       0\n",
              "4       Angola -11.2027  17.8739  ...      0          0       0\n",
              "\n",
              "[5 rows x 8 columns]"
            ]
          },
          "metadata": {
            "tags": []
          },
          "execution_count": 7
        }
      ]
    },
    {
      "cell_type": "code",
      "metadata": {
        "id": "d6_51UVWMnfG",
        "colab_type": "code",
        "outputId": "9bd209d4-6d0f-44d9-b774-357a78462a89",
        "colab": {
          "base_uri": "https://localhost:8080/",
          "height": 195
        }
      },
      "source": [
        "##Forecast for confirmed cases\n",
        "confirmed = df.groupby('Date')['Confirmed'].sum().reset_index()\n",
        "confirmed.head()"
      ],
      "execution_count": 8,
      "outputs": [
        {
          "output_type": "execute_result",
          "data": {
            "text/html": [
              "<div>\n",
              "<style scoped>\n",
              "    .dataframe tbody tr th:only-of-type {\n",
              "        vertical-align: middle;\n",
              "    }\n",
              "\n",
              "    .dataframe tbody tr th {\n",
              "        vertical-align: top;\n",
              "    }\n",
              "\n",
              "    .dataframe thead th {\n",
              "        text-align: right;\n",
              "    }\n",
              "</style>\n",
              "<table border=\"1\" class=\"dataframe\">\n",
              "  <thead>\n",
              "    <tr style=\"text-align: right;\">\n",
              "      <th></th>\n",
              "      <th>Date</th>\n",
              "      <th>Confirmed</th>\n",
              "    </tr>\n",
              "  </thead>\n",
              "  <tbody>\n",
              "    <tr>\n",
              "      <th>0</th>\n",
              "      <td>2020-01-22</td>\n",
              "      <td>555</td>\n",
              "    </tr>\n",
              "    <tr>\n",
              "      <th>1</th>\n",
              "      <td>2020-01-23</td>\n",
              "      <td>654</td>\n",
              "    </tr>\n",
              "    <tr>\n",
              "      <th>2</th>\n",
              "      <td>2020-01-24</td>\n",
              "      <td>941</td>\n",
              "    </tr>\n",
              "    <tr>\n",
              "      <th>3</th>\n",
              "      <td>2020-01-25</td>\n",
              "      <td>1434</td>\n",
              "    </tr>\n",
              "    <tr>\n",
              "      <th>4</th>\n",
              "      <td>2020-01-26</td>\n",
              "      <td>2118</td>\n",
              "    </tr>\n",
              "  </tbody>\n",
              "</table>\n",
              "</div>"
            ],
            "text/plain": [
              "        Date  Confirmed\n",
              "0 2020-01-22        555\n",
              "1 2020-01-23        654\n",
              "2 2020-01-24        941\n",
              "3 2020-01-25       1434\n",
              "4 2020-01-26       2118"
            ]
          },
          "metadata": {
            "tags": []
          },
          "execution_count": 8
        }
      ]
    },
    {
      "cell_type": "code",
      "metadata": {
        "id": "dWFjzEm4OTRd",
        "colab_type": "code",
        "colab": {}
      },
      "source": [
        "##REname column names as per requirement of library\n",
        "confirmed.rename(columns = {\"Date\":\"ds\",\"Confirmed\":\"y\"},inplace = True)\n"
      ],
      "execution_count": 0,
      "outputs": []
    },
    {
      "cell_type": "code",
      "metadata": {
        "id": "-VrmzKuROnx0",
        "colab_type": "code",
        "outputId": "ee31bc35-f42d-41eb-fbd2-541a67977ea4",
        "colab": {
          "base_uri": "https://localhost:8080/",
          "height": 195
        }
      },
      "source": [
        "confirmed.head()"
      ],
      "execution_count": 10,
      "outputs": [
        {
          "output_type": "execute_result",
          "data": {
            "text/html": [
              "<div>\n",
              "<style scoped>\n",
              "    .dataframe tbody tr th:only-of-type {\n",
              "        vertical-align: middle;\n",
              "    }\n",
              "\n",
              "    .dataframe tbody tr th {\n",
              "        vertical-align: top;\n",
              "    }\n",
              "\n",
              "    .dataframe thead th {\n",
              "        text-align: right;\n",
              "    }\n",
              "</style>\n",
              "<table border=\"1\" class=\"dataframe\">\n",
              "  <thead>\n",
              "    <tr style=\"text-align: right;\">\n",
              "      <th></th>\n",
              "      <th>ds</th>\n",
              "      <th>y</th>\n",
              "    </tr>\n",
              "  </thead>\n",
              "  <tbody>\n",
              "    <tr>\n",
              "      <th>0</th>\n",
              "      <td>2020-01-22</td>\n",
              "      <td>555</td>\n",
              "    </tr>\n",
              "    <tr>\n",
              "      <th>1</th>\n",
              "      <td>2020-01-23</td>\n",
              "      <td>654</td>\n",
              "    </tr>\n",
              "    <tr>\n",
              "      <th>2</th>\n",
              "      <td>2020-01-24</td>\n",
              "      <td>941</td>\n",
              "    </tr>\n",
              "    <tr>\n",
              "      <th>3</th>\n",
              "      <td>2020-01-25</td>\n",
              "      <td>1434</td>\n",
              "    </tr>\n",
              "    <tr>\n",
              "      <th>4</th>\n",
              "      <td>2020-01-26</td>\n",
              "      <td>2118</td>\n",
              "    </tr>\n",
              "  </tbody>\n",
              "</table>\n",
              "</div>"
            ],
            "text/plain": [
              "          ds     y\n",
              "0 2020-01-22   555\n",
              "1 2020-01-23   654\n",
              "2 2020-01-24   941\n",
              "3 2020-01-25  1434\n",
              "4 2020-01-26  2118"
            ]
          },
          "metadata": {
            "tags": []
          },
          "execution_count": 10
        }
      ]
    },
    {
      "cell_type": "code",
      "metadata": {
        "id": "-G5Q4gXzOrWr",
        "colab_type": "code",
        "colab": {}
      },
      "source": [
        "###Building model\n",
        "model = Prophet(interval_width = 0.95)"
      ],
      "execution_count": 0,
      "outputs": []
    },
    {
      "cell_type": "code",
      "metadata": {
        "id": "RU6k-0DQPds6",
        "colab_type": "code",
        "outputId": "0d06f32b-8c7f-48d5-df3e-76df1104100b",
        "colab": {
          "base_uri": "https://localhost:8080/",
          "height": 67
        }
      },
      "source": [
        "###train model\n",
        "model.fit(confirmed)"
      ],
      "execution_count": 12,
      "outputs": [
        {
          "output_type": "stream",
          "text": [
            "INFO:fbprophet:Disabling yearly seasonality. Run prophet with yearly_seasonality=True to override this.\n",
            "INFO:fbprophet:Disabling daily seasonality. Run prophet with daily_seasonality=True to override this.\n"
          ],
          "name": "stderr"
        },
        {
          "output_type": "execute_result",
          "data": {
            "text/plain": [
              "<fbprophet.forecaster.Prophet at 0x7f302c0ee710>"
            ]
          },
          "metadata": {
            "tags": []
          },
          "execution_count": 12
        }
      ]
    },
    {
      "cell_type": "code",
      "metadata": {
        "id": "XvlcYlmUP3_t",
        "colab_type": "code",
        "outputId": "35770ebb-09e6-476d-f339-2bacc983d7e8",
        "colab": {
          "base_uri": "https://localhost:8080/",
          "height": 343
        }
      },
      "source": [
        "##future forecasting \n",
        "future_dates = model.make_future_dataframe(periods=7)\n",
        "future_dates.tail(10)"
      ],
      "execution_count": 13,
      "outputs": [
        {
          "output_type": "execute_result",
          "data": {
            "text/html": [
              "<div>\n",
              "<style scoped>\n",
              "    .dataframe tbody tr th:only-of-type {\n",
              "        vertical-align: middle;\n",
              "    }\n",
              "\n",
              "    .dataframe tbody tr th {\n",
              "        vertical-align: top;\n",
              "    }\n",
              "\n",
              "    .dataframe thead th {\n",
              "        text-align: right;\n",
              "    }\n",
              "</style>\n",
              "<table border=\"1\" class=\"dataframe\">\n",
              "  <thead>\n",
              "    <tr style=\"text-align: right;\">\n",
              "      <th></th>\n",
              "      <th>ds</th>\n",
              "    </tr>\n",
              "  </thead>\n",
              "  <tbody>\n",
              "    <tr>\n",
              "      <th>104</th>\n",
              "      <td>2020-05-05</td>\n",
              "    </tr>\n",
              "    <tr>\n",
              "      <th>105</th>\n",
              "      <td>2020-05-06</td>\n",
              "    </tr>\n",
              "    <tr>\n",
              "      <th>106</th>\n",
              "      <td>2020-05-07</td>\n",
              "    </tr>\n",
              "    <tr>\n",
              "      <th>107</th>\n",
              "      <td>2020-05-08</td>\n",
              "    </tr>\n",
              "    <tr>\n",
              "      <th>108</th>\n",
              "      <td>2020-05-09</td>\n",
              "    </tr>\n",
              "    <tr>\n",
              "      <th>109</th>\n",
              "      <td>2020-05-10</td>\n",
              "    </tr>\n",
              "    <tr>\n",
              "      <th>110</th>\n",
              "      <td>2020-05-11</td>\n",
              "    </tr>\n",
              "    <tr>\n",
              "      <th>111</th>\n",
              "      <td>2020-05-12</td>\n",
              "    </tr>\n",
              "    <tr>\n",
              "      <th>112</th>\n",
              "      <td>2020-05-13</td>\n",
              "    </tr>\n",
              "    <tr>\n",
              "      <th>113</th>\n",
              "      <td>2020-05-14</td>\n",
              "    </tr>\n",
              "  </tbody>\n",
              "</table>\n",
              "</div>"
            ],
            "text/plain": [
              "            ds\n",
              "104 2020-05-05\n",
              "105 2020-05-06\n",
              "106 2020-05-07\n",
              "107 2020-05-08\n",
              "108 2020-05-09\n",
              "109 2020-05-10\n",
              "110 2020-05-11\n",
              "111 2020-05-12\n",
              "112 2020-05-13\n",
              "113 2020-05-14"
            ]
          },
          "metadata": {
            "tags": []
          },
          "execution_count": 13
        }
      ]
    },
    {
      "cell_type": "code",
      "metadata": {
        "id": "pun10MJBQyR0",
        "colab_type": "code",
        "outputId": "5b74c62e-ec2a-4a00-855e-a3383989cbbb",
        "colab": {
          "base_uri": "https://localhost:8080/",
          "height": 392
        }
      },
      "source": [
        "forecast = model.predict(future_dates)\n",
        "forecast.tail(7)"
      ],
      "execution_count": 14,
      "outputs": [
        {
          "output_type": "execute_result",
          "data": {
            "text/html": [
              "<div>\n",
              "<style scoped>\n",
              "    .dataframe tbody tr th:only-of-type {\n",
              "        vertical-align: middle;\n",
              "    }\n",
              "\n",
              "    .dataframe tbody tr th {\n",
              "        vertical-align: top;\n",
              "    }\n",
              "\n",
              "    .dataframe thead th {\n",
              "        text-align: right;\n",
              "    }\n",
              "</style>\n",
              "<table border=\"1\" class=\"dataframe\">\n",
              "  <thead>\n",
              "    <tr style=\"text-align: right;\">\n",
              "      <th></th>\n",
              "      <th>ds</th>\n",
              "      <th>trend</th>\n",
              "      <th>yhat_lower</th>\n",
              "      <th>yhat_upper</th>\n",
              "      <th>trend_lower</th>\n",
              "      <th>trend_upper</th>\n",
              "      <th>additive_terms</th>\n",
              "      <th>additive_terms_lower</th>\n",
              "      <th>additive_terms_upper</th>\n",
              "      <th>weekly</th>\n",
              "      <th>weekly_lower</th>\n",
              "      <th>weekly_upper</th>\n",
              "      <th>multiplicative_terms</th>\n",
              "      <th>multiplicative_terms_lower</th>\n",
              "      <th>multiplicative_terms_upper</th>\n",
              "      <th>yhat</th>\n",
              "    </tr>\n",
              "  </thead>\n",
              "  <tbody>\n",
              "    <tr>\n",
              "      <th>107</th>\n",
              "      <td>2020-05-08</td>\n",
              "      <td>3.907886e+06</td>\n",
              "      <td>3.901091e+06</td>\n",
              "      <td>3.920114e+06</td>\n",
              "      <td>3.905426e+06</td>\n",
              "      <td>3.910513e+06</td>\n",
              "      <td>2572.321704</td>\n",
              "      <td>2572.321704</td>\n",
              "      <td>2572.321704</td>\n",
              "      <td>2572.321704</td>\n",
              "      <td>2572.321704</td>\n",
              "      <td>2572.321704</td>\n",
              "      <td>0.0</td>\n",
              "      <td>0.0</td>\n",
              "      <td>0.0</td>\n",
              "      <td>3.910458e+06</td>\n",
              "    </tr>\n",
              "    <tr>\n",
              "      <th>108</th>\n",
              "      <td>2020-05-09</td>\n",
              "      <td>3.987801e+06</td>\n",
              "      <td>3.978080e+06</td>\n",
              "      <td>4.002846e+06</td>\n",
              "      <td>3.978228e+06</td>\n",
              "      <td>3.995728e+06</td>\n",
              "      <td>2953.387375</td>\n",
              "      <td>2953.387375</td>\n",
              "      <td>2953.387375</td>\n",
              "      <td>2953.387375</td>\n",
              "      <td>2953.387375</td>\n",
              "      <td>2953.387375</td>\n",
              "      <td>0.0</td>\n",
              "      <td>0.0</td>\n",
              "      <td>0.0</td>\n",
              "      <td>3.990754e+06</td>\n",
              "    </tr>\n",
              "    <tr>\n",
              "      <th>109</th>\n",
              "      <td>2020-05-10</td>\n",
              "      <td>4.067716e+06</td>\n",
              "      <td>4.050775e+06</td>\n",
              "      <td>4.089635e+06</td>\n",
              "      <td>4.048387e+06</td>\n",
              "      <td>4.084813e+06</td>\n",
              "      <td>3065.029630</td>\n",
              "      <td>3065.029630</td>\n",
              "      <td>3065.029630</td>\n",
              "      <td>3065.029630</td>\n",
              "      <td>3065.029630</td>\n",
              "      <td>3065.029630</td>\n",
              "      <td>0.0</td>\n",
              "      <td>0.0</td>\n",
              "      <td>0.0</td>\n",
              "      <td>4.070781e+06</td>\n",
              "    </tr>\n",
              "    <tr>\n",
              "      <th>110</th>\n",
              "      <td>2020-05-11</td>\n",
              "      <td>4.147631e+06</td>\n",
              "      <td>4.116873e+06</td>\n",
              "      <td>4.175544e+06</td>\n",
              "      <td>4.118277e+06</td>\n",
              "      <td>4.175546e+06</td>\n",
              "      <td>-1471.013359</td>\n",
              "      <td>-1471.013359</td>\n",
              "      <td>-1471.013359</td>\n",
              "      <td>-1471.013359</td>\n",
              "      <td>-1471.013359</td>\n",
              "      <td>-1471.013359</td>\n",
              "      <td>0.0</td>\n",
              "      <td>0.0</td>\n",
              "      <td>0.0</td>\n",
              "      <td>4.146160e+06</td>\n",
              "    </tr>\n",
              "    <tr>\n",
              "      <th>111</th>\n",
              "      <td>2020-05-12</td>\n",
              "      <td>4.227546e+06</td>\n",
              "      <td>4.185208e+06</td>\n",
              "      <td>4.263146e+06</td>\n",
              "      <td>4.189971e+06</td>\n",
              "      <td>4.266480e+06</td>\n",
              "      <td>-4201.529131</td>\n",
              "      <td>-4201.529131</td>\n",
              "      <td>-4201.529131</td>\n",
              "      <td>-4201.529131</td>\n",
              "      <td>-4201.529131</td>\n",
              "      <td>-4201.529131</td>\n",
              "      <td>0.0</td>\n",
              "      <td>0.0</td>\n",
              "      <td>0.0</td>\n",
              "      <td>4.223345e+06</td>\n",
              "    </tr>\n",
              "    <tr>\n",
              "      <th>112</th>\n",
              "      <td>2020-05-13</td>\n",
              "      <td>4.307461e+06</td>\n",
              "      <td>4.251982e+06</td>\n",
              "      <td>4.354927e+06</td>\n",
              "      <td>4.256630e+06</td>\n",
              "      <td>4.358317e+06</td>\n",
              "      <td>-3694.075037</td>\n",
              "      <td>-3694.075037</td>\n",
              "      <td>-3694.075037</td>\n",
              "      <td>-3694.075037</td>\n",
              "      <td>-3694.075037</td>\n",
              "      <td>-3694.075037</td>\n",
              "      <td>0.0</td>\n",
              "      <td>0.0</td>\n",
              "      <td>0.0</td>\n",
              "      <td>4.303767e+06</td>\n",
              "    </tr>\n",
              "    <tr>\n",
              "      <th>113</th>\n",
              "      <td>2020-05-14</td>\n",
              "      <td>4.387376e+06</td>\n",
              "      <td>4.321221e+06</td>\n",
              "      <td>4.451554e+06</td>\n",
              "      <td>4.319313e+06</td>\n",
              "      <td>4.451164e+06</td>\n",
              "      <td>775.878818</td>\n",
              "      <td>775.878818</td>\n",
              "      <td>775.878818</td>\n",
              "      <td>775.878818</td>\n",
              "      <td>775.878818</td>\n",
              "      <td>775.878818</td>\n",
              "      <td>0.0</td>\n",
              "      <td>0.0</td>\n",
              "      <td>0.0</td>\n",
              "      <td>4.388152e+06</td>\n",
              "    </tr>\n",
              "  </tbody>\n",
              "</table>\n",
              "</div>"
            ],
            "text/plain": [
              "            ds         trend  ...  multiplicative_terms_upper          yhat\n",
              "107 2020-05-08  3.907886e+06  ...                         0.0  3.910458e+06\n",
              "108 2020-05-09  3.987801e+06  ...                         0.0  3.990754e+06\n",
              "109 2020-05-10  4.067716e+06  ...                         0.0  4.070781e+06\n",
              "110 2020-05-11  4.147631e+06  ...                         0.0  4.146160e+06\n",
              "111 2020-05-12  4.227546e+06  ...                         0.0  4.223345e+06\n",
              "112 2020-05-13  4.307461e+06  ...                         0.0  4.303767e+06\n",
              "113 2020-05-14  4.387376e+06  ...                         0.0  4.388152e+06\n",
              "\n",
              "[7 rows x 16 columns]"
            ]
          },
          "metadata": {
            "tags": []
          },
          "execution_count": 14
        }
      ]
    },
    {
      "cell_type": "code",
      "metadata": {
        "id": "pbQ3sCQ_RlMl",
        "colab_type": "code",
        "outputId": "8dbfa075-66c1-4876-c5b4-2fec04b9c5ec",
        "colab": {
          "base_uri": "https://localhost:8080/",
          "height": 254
        }
      },
      "source": [
        "###yhat = predicted value\n",
        "###yhat lower = lower value of prediction\n",
        "#yhat upper = upper value of prediction\n",
        "forecast[['ds','yhat','yhat_lower','yhat_upper']].tail(7)"
      ],
      "execution_count": 15,
      "outputs": [
        {
          "output_type": "execute_result",
          "data": {
            "text/html": [
              "<div>\n",
              "<style scoped>\n",
              "    .dataframe tbody tr th:only-of-type {\n",
              "        vertical-align: middle;\n",
              "    }\n",
              "\n",
              "    .dataframe tbody tr th {\n",
              "        vertical-align: top;\n",
              "    }\n",
              "\n",
              "    .dataframe thead th {\n",
              "        text-align: right;\n",
              "    }\n",
              "</style>\n",
              "<table border=\"1\" class=\"dataframe\">\n",
              "  <thead>\n",
              "    <tr style=\"text-align: right;\">\n",
              "      <th></th>\n",
              "      <th>ds</th>\n",
              "      <th>yhat</th>\n",
              "      <th>yhat_lower</th>\n",
              "      <th>yhat_upper</th>\n",
              "    </tr>\n",
              "  </thead>\n",
              "  <tbody>\n",
              "    <tr>\n",
              "      <th>107</th>\n",
              "      <td>2020-05-08</td>\n",
              "      <td>3.910458e+06</td>\n",
              "      <td>3.901091e+06</td>\n",
              "      <td>3.920114e+06</td>\n",
              "    </tr>\n",
              "    <tr>\n",
              "      <th>108</th>\n",
              "      <td>2020-05-09</td>\n",
              "      <td>3.990754e+06</td>\n",
              "      <td>3.978080e+06</td>\n",
              "      <td>4.002846e+06</td>\n",
              "    </tr>\n",
              "    <tr>\n",
              "      <th>109</th>\n",
              "      <td>2020-05-10</td>\n",
              "      <td>4.070781e+06</td>\n",
              "      <td>4.050775e+06</td>\n",
              "      <td>4.089635e+06</td>\n",
              "    </tr>\n",
              "    <tr>\n",
              "      <th>110</th>\n",
              "      <td>2020-05-11</td>\n",
              "      <td>4.146160e+06</td>\n",
              "      <td>4.116873e+06</td>\n",
              "      <td>4.175544e+06</td>\n",
              "    </tr>\n",
              "    <tr>\n",
              "      <th>111</th>\n",
              "      <td>2020-05-12</td>\n",
              "      <td>4.223345e+06</td>\n",
              "      <td>4.185208e+06</td>\n",
              "      <td>4.263146e+06</td>\n",
              "    </tr>\n",
              "    <tr>\n",
              "      <th>112</th>\n",
              "      <td>2020-05-13</td>\n",
              "      <td>4.303767e+06</td>\n",
              "      <td>4.251982e+06</td>\n",
              "      <td>4.354927e+06</td>\n",
              "    </tr>\n",
              "    <tr>\n",
              "      <th>113</th>\n",
              "      <td>2020-05-14</td>\n",
              "      <td>4.388152e+06</td>\n",
              "      <td>4.321221e+06</td>\n",
              "      <td>4.451554e+06</td>\n",
              "    </tr>\n",
              "  </tbody>\n",
              "</table>\n",
              "</div>"
            ],
            "text/plain": [
              "            ds          yhat    yhat_lower    yhat_upper\n",
              "107 2020-05-08  3.910458e+06  3.901091e+06  3.920114e+06\n",
              "108 2020-05-09  3.990754e+06  3.978080e+06  4.002846e+06\n",
              "109 2020-05-10  4.070781e+06  4.050775e+06  4.089635e+06\n",
              "110 2020-05-11  4.146160e+06  4.116873e+06  4.175544e+06\n",
              "111 2020-05-12  4.223345e+06  4.185208e+06  4.263146e+06\n",
              "112 2020-05-13  4.303767e+06  4.251982e+06  4.354927e+06\n",
              "113 2020-05-14  4.388152e+06  4.321221e+06  4.451554e+06"
            ]
          },
          "metadata": {
            "tags": []
          },
          "execution_count": 15
        }
      ]
    },
    {
      "cell_type": "code",
      "metadata": {
        "id": "quuO-iJgSWUz",
        "colab_type": "code",
        "outputId": "a38bbb1d-9d9d-44b3-982b-12848a0b604f",
        "colab": {
          "base_uri": "https://localhost:8080/",
          "height": 441
        }
      },
      "source": [
        "confirmed_plot = model.plot(forecast)"
      ],
      "execution_count": 16,
      "outputs": [
        {
          "output_type": "display_data",
          "data": {
            "image/png": "[encoded data removed]",
            "text/plain": [
              "<Figure size 720x432 with 1 Axes>"
            ]
          },
          "metadata": {
            "tags": []
          }
        }
      ]
    },
    {
      "cell_type": "code",
      "metadata": {
        "id": "tqiNxm8BSjqd",
        "colab_type": "code",
        "outputId": "9cde8aa1-1b27-41b8-de31-ddb3af0c843f",
        "colab": {
          "base_uri": "https://localhost:8080/",
          "height": 343
        }
      },
      "source": [
        "future_dates = model.make_future_dataframe(periods=10)\n",
        "future_dates.tail(10)"
      ],
      "execution_count": 26,
      "outputs": [
        {
          "output_type": "execute_result",
          "data": {
            "text/html": [
              "<div>\n",
              "<style scoped>\n",
              "    .dataframe tbody tr th:only-of-type {\n",
              "        vertical-align: middle;\n",
              "    }\n",
              "\n",
              "    .dataframe tbody tr th {\n",
              "        vertical-align: top;\n",
              "    }\n",
              "\n",
              "    .dataframe thead th {\n",
              "        text-align: right;\n",
              "    }\n",
              "</style>\n",
              "<table border=\"1\" class=\"dataframe\">\n",
              "  <thead>\n",
              "    <tr style=\"text-align: right;\">\n",
              "      <th></th>\n",
              "      <th>ds</th>\n",
              "    </tr>\n",
              "  </thead>\n",
              "  <tbody>\n",
              "    <tr>\n",
              "      <th>107</th>\n",
              "      <td>2020-05-08</td>\n",
              "    </tr>\n",
              "    <tr>\n",
              "      <th>108</th>\n",
              "      <td>2020-05-09</td>\n",
              "    </tr>\n",
              "    <tr>\n",
              "      <th>109</th>\n",
              "      <td>2020-05-10</td>\n",
              "    </tr>\n",
              "    <tr>\n",
              "      <th>110</th>\n",
              "      <td>2020-05-11</td>\n",
              "    </tr>\n",
              "    <tr>\n",
              "      <th>111</th>\n",
              "      <td>2020-05-12</td>\n",
              "    </tr>\n",
              "    <tr>\n",
              "      <th>112</th>\n",
              "      <td>2020-05-13</td>\n",
              "    </tr>\n",
              "    <tr>\n",
              "      <th>113</th>\n",
              "      <td>2020-05-14</td>\n",
              "    </tr>\n",
              "    <tr>\n",
              "      <th>114</th>\n",
              "      <td>2020-05-15</td>\n",
              "    </tr>\n",
              "    <tr>\n",
              "      <th>115</th>\n",
              "      <td>2020-05-16</td>\n",
              "    </tr>\n",
              "    <tr>\n",
              "      <th>116</th>\n",
              "      <td>2020-05-17</td>\n",
              "    </tr>\n",
              "  </tbody>\n",
              "</table>\n",
              "</div>"
            ],
            "text/plain": [
              "            ds\n",
              "107 2020-05-08\n",
              "108 2020-05-09\n",
              "109 2020-05-10\n",
              "110 2020-05-11\n",
              "111 2020-05-12\n",
              "112 2020-05-13\n",
              "113 2020-05-14\n",
              "114 2020-05-15\n",
              "115 2020-05-16\n",
              "116 2020-05-17"
            ]
          },
          "metadata": {
            "tags": []
          },
          "execution_count": 26
        }
      ]
    },
    {
      "cell_type": "code",
      "metadata": {
        "id": "hpttXl2NSuuE",
        "colab_type": "code",
        "outputId": "74bbd402-d2a3-471b-96c4-e925b73400fe",
        "colab": {
          "base_uri": "https://localhost:8080/",
          "height": 392
        }
      },
      "source": [
        "forecast = model.predict(future_dates)\n",
        "forecast.tail(7)"
      ],
      "execution_count": 27,
      "outputs": [
        {
          "output_type": "execute_result",
          "data": {
            "text/html": [
              "<div>\n",
              "<style scoped>\n",
              "    .dataframe tbody tr th:only-of-type {\n",
              "        vertical-align: middle;\n",
              "    }\n",
              "\n",
              "    .dataframe tbody tr th {\n",
              "        vertical-align: top;\n",
              "    }\n",
              "\n",
              "    .dataframe thead th {\n",
              "        text-align: right;\n",
              "    }\n",
              "</style>\n",
              "<table border=\"1\" class=\"dataframe\">\n",
              "  <thead>\n",
              "    <tr style=\"text-align: right;\">\n",
              "      <th></th>\n",
              "      <th>ds</th>\n",
              "      <th>trend</th>\n",
              "      <th>yhat_lower</th>\n",
              "      <th>yhat_upper</th>\n",
              "      <th>trend_lower</th>\n",
              "      <th>trend_upper</th>\n",
              "      <th>additive_terms</th>\n",
              "      <th>additive_terms_lower</th>\n",
              "      <th>additive_terms_upper</th>\n",
              "      <th>weekly</th>\n",
              "      <th>weekly_lower</th>\n",
              "      <th>weekly_upper</th>\n",
              "      <th>multiplicative_terms</th>\n",
              "      <th>multiplicative_terms_lower</th>\n",
              "      <th>multiplicative_terms_upper</th>\n",
              "      <th>yhat</th>\n",
              "    </tr>\n",
              "  </thead>\n",
              "  <tbody>\n",
              "    <tr>\n",
              "      <th>110</th>\n",
              "      <td>2020-05-11</td>\n",
              "      <td>4.147631e+06</td>\n",
              "      <td>4.119774e+06</td>\n",
              "      <td>4.171812e+06</td>\n",
              "      <td>4.121471e+06</td>\n",
              "      <td>4.171670e+06</td>\n",
              "      <td>-1471.013359</td>\n",
              "      <td>-1471.013359</td>\n",
              "      <td>-1471.013359</td>\n",
              "      <td>-1471.013359</td>\n",
              "      <td>-1471.013359</td>\n",
              "      <td>-1471.013359</td>\n",
              "      <td>0.0</td>\n",
              "      <td>0.0</td>\n",
              "      <td>0.0</td>\n",
              "      <td>4.146160e+06</td>\n",
              "    </tr>\n",
              "    <tr>\n",
              "      <th>111</th>\n",
              "      <td>2020-05-12</td>\n",
              "      <td>4.227546e+06</td>\n",
              "      <td>4.183934e+06</td>\n",
              "      <td>4.257511e+06</td>\n",
              "      <td>4.190414e+06</td>\n",
              "      <td>4.259575e+06</td>\n",
              "      <td>-4201.529131</td>\n",
              "      <td>-4201.529131</td>\n",
              "      <td>-4201.529131</td>\n",
              "      <td>-4201.529131</td>\n",
              "      <td>-4201.529131</td>\n",
              "      <td>-4201.529131</td>\n",
              "      <td>0.0</td>\n",
              "      <td>0.0</td>\n",
              "      <td>0.0</td>\n",
              "      <td>4.223345e+06</td>\n",
              "    </tr>\n",
              "    <tr>\n",
              "      <th>112</th>\n",
              "      <td>2020-05-13</td>\n",
              "      <td>4.307461e+06</td>\n",
              "      <td>4.252121e+06</td>\n",
              "      <td>4.349543e+06</td>\n",
              "      <td>4.256825e+06</td>\n",
              "      <td>4.351617e+06</td>\n",
              "      <td>-3694.075037</td>\n",
              "      <td>-3694.075037</td>\n",
              "      <td>-3694.075037</td>\n",
              "      <td>-3694.075037</td>\n",
              "      <td>-3694.075037</td>\n",
              "      <td>-3694.075037</td>\n",
              "      <td>0.0</td>\n",
              "      <td>0.0</td>\n",
              "      <td>0.0</td>\n",
              "      <td>4.303767e+06</td>\n",
              "    </tr>\n",
              "    <tr>\n",
              "      <th>113</th>\n",
              "      <td>2020-05-14</td>\n",
              "      <td>4.387376e+06</td>\n",
              "      <td>4.321846e+06</td>\n",
              "      <td>4.443677e+06</td>\n",
              "      <td>4.321734e+06</td>\n",
              "      <td>4.441842e+06</td>\n",
              "      <td>775.878818</td>\n",
              "      <td>775.878818</td>\n",
              "      <td>775.878818</td>\n",
              "      <td>775.878818</td>\n",
              "      <td>775.878818</td>\n",
              "      <td>775.878818</td>\n",
              "      <td>0.0</td>\n",
              "      <td>0.0</td>\n",
              "      <td>0.0</td>\n",
              "      <td>4.388152e+06</td>\n",
              "    </tr>\n",
              "    <tr>\n",
              "      <th>114</th>\n",
              "      <td>2020-05-15</td>\n",
              "      <td>4.467292e+06</td>\n",
              "      <td>4.390889e+06</td>\n",
              "      <td>4.534894e+06</td>\n",
              "      <td>4.387925e+06</td>\n",
              "      <td>4.534578e+06</td>\n",
              "      <td>2572.321704</td>\n",
              "      <td>2572.321704</td>\n",
              "      <td>2572.321704</td>\n",
              "      <td>2572.321704</td>\n",
              "      <td>2572.321704</td>\n",
              "      <td>2572.321704</td>\n",
              "      <td>0.0</td>\n",
              "      <td>0.0</td>\n",
              "      <td>0.0</td>\n",
              "      <td>4.469864e+06</td>\n",
              "    </tr>\n",
              "    <tr>\n",
              "      <th>115</th>\n",
              "      <td>2020-05-16</td>\n",
              "      <td>4.547207e+06</td>\n",
              "      <td>4.457868e+06</td>\n",
              "      <td>4.630808e+06</td>\n",
              "      <td>4.454677e+06</td>\n",
              "      <td>4.625687e+06</td>\n",
              "      <td>2953.387375</td>\n",
              "      <td>2953.387375</td>\n",
              "      <td>2953.387375</td>\n",
              "      <td>2953.387375</td>\n",
              "      <td>2953.387375</td>\n",
              "      <td>2953.387375</td>\n",
              "      <td>0.0</td>\n",
              "      <td>0.0</td>\n",
              "      <td>0.0</td>\n",
              "      <td>4.550160e+06</td>\n",
              "    </tr>\n",
              "    <tr>\n",
              "      <th>116</th>\n",
              "      <td>2020-05-17</td>\n",
              "      <td>4.627122e+06</td>\n",
              "      <td>4.523424e+06</td>\n",
              "      <td>4.726787e+06</td>\n",
              "      <td>4.519497e+06</td>\n",
              "      <td>4.723693e+06</td>\n",
              "      <td>3065.029630</td>\n",
              "      <td>3065.029630</td>\n",
              "      <td>3065.029630</td>\n",
              "      <td>3065.029630</td>\n",
              "      <td>3065.029630</td>\n",
              "      <td>3065.029630</td>\n",
              "      <td>0.0</td>\n",
              "      <td>0.0</td>\n",
              "      <td>0.0</td>\n",
              "      <td>4.630187e+06</td>\n",
              "    </tr>\n",
              "  </tbody>\n",
              "</table>\n",
              "</div>"
            ],
            "text/plain": [
              "            ds         trend  ...  multiplicative_terms_upper          yhat\n",
              "110 2020-05-11  4.147631e+06  ...                         0.0  4.146160e+06\n",
              "111 2020-05-12  4.227546e+06  ...                         0.0  4.223345e+06\n",
              "112 2020-05-13  4.307461e+06  ...                         0.0  4.303767e+06\n",
              "113 2020-05-14  4.387376e+06  ...                         0.0  4.388152e+06\n",
              "114 2020-05-15  4.467292e+06  ...                         0.0  4.469864e+06\n",
              "115 2020-05-16  4.547207e+06  ...                         0.0  4.550160e+06\n",
              "116 2020-05-17  4.627122e+06  ...                         0.0  4.630187e+06\n",
              "\n",
              "[7 rows x 16 columns]"
            ]
          },
          "metadata": {
            "tags": []
          },
          "execution_count": 27
        }
      ]
    },
    {
      "cell_type": "code",
      "metadata": {
        "id": "5jy7v8CYS0ek",
        "colab_type": "code",
        "outputId": "625cbd24-a655-44ca-fa62-4afb49bd8e49",
        "colab": {
          "base_uri": "https://localhost:8080/",
          "height": 441
        }
      },
      "source": [
        "confirmed_plot = model.plot (forecast, ylabel = 'No. of confirmed cases in thousand', xlabel = 'Date')"
      ],
      "execution_count": 31,
      "outputs": [
        {
          "output_type": "display_data",
          "data": {
            "image/png": "[encoded data removed]",
            "text/plain": [
              "<Figure size 720x432 with 1 Axes>"
            ]
          },
          "metadata": {
            "tags": []
          }
        }
      ]
    },
    {
      "cell_type": "code",
      "metadata": {
        "id": "8Oq-1cSYR3YG",
        "colab_type": "code",
        "colab": {}
      },
      "source": [
        "china = df[df['Country']=='China']"
      ],
      "execution_count": 0,
      "outputs": []
    },
    {
      "cell_type": "code",
      "metadata": {
        "id": "MNkV6kw7TS1Q",
        "colab_type": "code",
        "outputId": "7a7b47d0-6546-493d-b40e-64a23728406c",
        "colab": {
          "base_uri": "https://localhost:8080/",
          "height": 343
        }
      },
      "source": [
        "active_china = china.groupby('Date')['Active'].sum().reset_index()\n",
        "active_china.tail(10)"
      ],
      "execution_count": 21,
      "outputs": [
        {
          "output_type": "execute_result",
          "data": {
            "text/html": [
              "<div>\n",
              "<style scoped>\n",
              "    .dataframe tbody tr th:only-of-type {\n",
              "        vertical-align: middle;\n",
              "    }\n",
              "\n",
              "    .dataframe tbody tr th {\n",
              "        vertical-align: top;\n",
              "    }\n",
              "\n",
              "    .dataframe thead th {\n",
              "        text-align: right;\n",
              "    }\n",
              "</style>\n",
              "<table border=\"1\" class=\"dataframe\">\n",
              "  <thead>\n",
              "    <tr style=\"text-align: right;\">\n",
              "      <th></th>\n",
              "      <th>Date</th>\n",
              "      <th>Active</th>\n",
              "    </tr>\n",
              "  </thead>\n",
              "  <tbody>\n",
              "    <tr>\n",
              "      <th>97</th>\n",
              "      <td>2020-04-28</td>\n",
              "      <td>881</td>\n",
              "    </tr>\n",
              "    <tr>\n",
              "      <th>98</th>\n",
              "      <td>2020-04-29</td>\n",
              "      <td>833</td>\n",
              "    </tr>\n",
              "    <tr>\n",
              "      <th>99</th>\n",
              "      <td>2020-04-30</td>\n",
              "      <td>796</td>\n",
              "    </tr>\n",
              "    <tr>\n",
              "      <th>100</th>\n",
              "      <td>2020-05-01</td>\n",
              "      <td>749</td>\n",
              "    </tr>\n",
              "    <tr>\n",
              "      <th>101</th>\n",
              "      <td>2020-05-02</td>\n",
              "      <td>736</td>\n",
              "    </tr>\n",
              "    <tr>\n",
              "      <th>102</th>\n",
              "      <td>2020-05-03</td>\n",
              "      <td>643</td>\n",
              "    </tr>\n",
              "    <tr>\n",
              "      <th>103</th>\n",
              "      <td>2020-05-04</td>\n",
              "      <td>537</td>\n",
              "    </tr>\n",
              "    <tr>\n",
              "      <th>104</th>\n",
              "      <td>2020-05-05</td>\n",
              "      <td>461</td>\n",
              "    </tr>\n",
              "    <tr>\n",
              "      <th>105</th>\n",
              "      <td>2020-05-06</td>\n",
              "      <td>404</td>\n",
              "    </tr>\n",
              "    <tr>\n",
              "      <th>106</th>\n",
              "      <td>2020-05-07</td>\n",
              "      <td>361</td>\n",
              "    </tr>\n",
              "  </tbody>\n",
              "</table>\n",
              "</div>"
            ],
            "text/plain": [
              "          Date  Active\n",
              "97  2020-04-28     881\n",
              "98  2020-04-29     833\n",
              "99  2020-04-30     796\n",
              "100 2020-05-01     749\n",
              "101 2020-05-02     736\n",
              "102 2020-05-03     643\n",
              "103 2020-05-04     537\n",
              "104 2020-05-05     461\n",
              "105 2020-05-06     404\n",
              "106 2020-05-07     361"
            ]
          },
          "metadata": {
            "tags": []
          },
          "execution_count": 21
        }
      ]
    },
    {
      "cell_type": "code",
      "metadata": {
        "id": "7fAVK5cyTpMt",
        "colab_type": "code",
        "outputId": "5327c0d2-e764-4953-94ab-3c766239d2e6",
        "colab": {
          "base_uri": "https://localhost:8080/",
          "height": 195
        }
      },
      "source": [
        "active_china.rename(columns = {\"Date\":\"ds\",\"Active\":\"y\"},inplace=True)\n",
        "active_china.tail()"
      ],
      "execution_count": 22,
      "outputs": [
        {
          "output_type": "execute_result",
          "data": {
            "text/html": [
              "<div>\n",
              "<style scoped>\n",
              "    .dataframe tbody tr th:only-of-type {\n",
              "        vertical-align: middle;\n",
              "    }\n",
              "\n",
              "    .dataframe tbody tr th {\n",
              "        vertical-align: top;\n",
              "    }\n",
              "\n",
              "    .dataframe thead th {\n",
              "        text-align: right;\n",
              "    }\n",
              "</style>\n",
              "<table border=\"1\" class=\"dataframe\">\n",
              "  <thead>\n",
              "    <tr style=\"text-align: right;\">\n",
              "      <th></th>\n",
              "      <th>ds</th>\n",
              "      <th>y</th>\n",
              "    </tr>\n",
              "  </thead>\n",
              "  <tbody>\n",
              "    <tr>\n",
              "      <th>102</th>\n",
              "      <td>2020-05-03</td>\n",
              "      <td>643</td>\n",
              "    </tr>\n",
              "    <tr>\n",
              "      <th>103</th>\n",
              "      <td>2020-05-04</td>\n",
              "      <td>537</td>\n",
              "    </tr>\n",
              "    <tr>\n",
              "      <th>104</th>\n",
              "      <td>2020-05-05</td>\n",
              "      <td>461</td>\n",
              "    </tr>\n",
              "    <tr>\n",
              "      <th>105</th>\n",
              "      <td>2020-05-06</td>\n",
              "      <td>404</td>\n",
              "    </tr>\n",
              "    <tr>\n",
              "      <th>106</th>\n",
              "      <td>2020-05-07</td>\n",
              "      <td>361</td>\n",
              "    </tr>\n",
              "  </tbody>\n",
              "</table>\n",
              "</div>"
            ],
            "text/plain": [
              "            ds    y\n",
              "102 2020-05-03  643\n",
              "103 2020-05-04  537\n",
              "104 2020-05-05  461\n",
              "105 2020-05-06  404\n",
              "106 2020-05-07  361"
            ]
          },
          "metadata": {
            "tags": []
          },
          "execution_count": 22
        }
      ]
    },
    {
      "cell_type": "code",
      "metadata": {
        "id": "PSuhNjrwUSf6",
        "colab_type": "code",
        "colab": {}
      },
      "source": [
        "###Building model\n",
        "model_china = Prophet(interval_width = 0.95)"
      ],
      "execution_count": 0,
      "outputs": []
    },
    {
      "cell_type": "code",
      "metadata": {
        "id": "1QIschINUbzV",
        "colab_type": "code",
        "outputId": "67ea5913-8a55-44ba-8ecd-60c466c365b5",
        "colab": {
          "base_uri": "https://localhost:8080/",
          "height": 279
        }
      },
      "source": [
        "###train model###do it for china\n",
        "model_china.fit(active)"
      ],
      "execution_count": 25,
      "outputs": [
        {
          "output_type": "error",
          "ename": "ValueError",
          "evalue": "ignored",
          "traceback": [
            "\u001b[0;31m---------------------------------------------------------------------------\u001b[0m",
            "\u001b[0;31mValueError\u001b[0m                                Traceback (most recent call last)",
            "\u001b[0;32m<ipython-input-25-932e52eb18a2>\u001b[0m in \u001b[0;36m<module>\u001b[0;34m()\u001b[0m\n\u001b[0;32m----> 1\u001b[0;31m \u001b[0mmodel_china\u001b[0m\u001b[0;34m.\u001b[0m\u001b[0mfit\u001b[0m\u001b[0;34m(\u001b[0m\u001b[0mactive\u001b[0m\u001b[0;34m)\u001b[0m\u001b[0;34m\u001b[0m\u001b[0;34m\u001b[0m\u001b[0m\n\u001b[0m",
            "\u001b[0;32m/usr/local/lib/python3.6/dist-packages/fbprophet/forecaster.py\u001b[0m in \u001b[0;36mfit\u001b[0;34m(self, df, **kwargs)\u001b[0m\n\u001b[1;32m   1080\u001b[0m         \u001b[0;32mif\u001b[0m \u001b[0;34m(\u001b[0m\u001b[0;34m'ds'\u001b[0m \u001b[0;32mnot\u001b[0m \u001b[0;32min\u001b[0m \u001b[0mdf\u001b[0m\u001b[0;34m)\u001b[0m \u001b[0;32mor\u001b[0m \u001b[0;34m(\u001b[0m\u001b[0;34m'y'\u001b[0m \u001b[0;32mnot\u001b[0m \u001b[0;32min\u001b[0m \u001b[0mdf\u001b[0m\u001b[0;34m)\u001b[0m\u001b[0;34m:\u001b[0m\u001b[0;34m\u001b[0m\u001b[0;34m\u001b[0m\u001b[0m\n\u001b[1;32m   1081\u001b[0m             raise ValueError(\n\u001b[0;32m-> 1082\u001b[0;31m                 \u001b[0;34m'Dataframe must have columns \"ds\" and \"y\" with the dates and '\u001b[0m\u001b[0;34m\u001b[0m\u001b[0;34m\u001b[0m\u001b[0m\n\u001b[0m\u001b[1;32m   1083\u001b[0m                 \u001b[0;34m'values respectively.'\u001b[0m\u001b[0;34m\u001b[0m\u001b[0;34m\u001b[0m\u001b[0m\n\u001b[1;32m   1084\u001b[0m             )\n",
            "\u001b[0;31mValueError\u001b[0m: Dataframe must have columns \"ds\" and \"y\" with the dates and values respectively."
          ]
        }
      ]
    },
    {
      "cell_type": "code",
      "metadata": {
        "id": "Ei4wDgU3Uq8m",
        "colab_type": "code",
        "colab": {}
      },
      "source": [
        ""
      ],
      "execution_count": 0,
      "outputs": []
    }
  ]
}